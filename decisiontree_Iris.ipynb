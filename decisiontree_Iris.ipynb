{
  "cells": [
    {
      "cell_type": "markdown",
      "metadata": {
        "id": "view-in-github",
        "colab_type": "text"
      },
      "source": [
        "<a href=\"https://colab.research.google.com/github/selviij/decisiontree/blob/main/decisiontree_Iris.ipynb\" target=\"_parent\"><img src=\"https://colab.research.google.com/assets/colab-badge.svg\" alt=\"Open In Colab\"/></a>"
      ]
    },
    {
      "cell_type": "code",
      "source": [
        "#Import library numpy, pandas dan scikit-learn\n",
        "import numpy as np\n",
        "import pandas as pd\n",
        "from sklearn import tree"
      ],
      "metadata": {
        "id": "nIpM1VHlRepS"
      },
      "execution_count": 3,
      "outputs": []
    },
    {
      "cell_type": "code",
      "source": [
        "#Membaca dataset dari file ke pandas\n",
        "irisDataset = pd.read_csv('Dataset Iris.csv', delimiter=';', header=0)"
      ],
      "metadata": {
        "id": "7P3sUXh4T7_I"
      },
      "execution_count": 5,
      "outputs": []
    },
    {
      "cell_type": "code",
      "source": [
        "#Mengubah kelas (kolom \"Species\") dari String ke Unique-Integer\n",
        "irisDataset[\"Species\"] = pd.factorize(irisDataset.Species)[0]"
      ],
      "metadata": {
        "id": "nQ7ZWLsnRmY6"
      },
      "execution_count": 6,
      "outputs": []
    },
    {
      "cell_type": "code",
      "source": [
        "#Menghapus kolom \"Id\"\n",
        "irisDataset = irisDataset.drop(labels=\"Id\", axis=1)"
      ],
      "metadata": {
        "id": "4j4dm9-MRok8"
      },
      "execution_count": 7,
      "outputs": []
    },
    {
      "cell_type": "code",
      "source": [
        "irisDataset.head()"
      ],
      "metadata": {
        "colab": {
          "base_uri": "https://localhost:8080/",
          "height": 206
        },
        "id": "Z8jxLFurVU6E",
        "outputId": "b3a18560-7778-4d08-d9be-92f8dd18ab66"
      },
      "execution_count": 8,
      "outputs": [
        {
          "output_type": "execute_result",
          "data": {
            "text/plain": [
              "    SepalLengthCm  SepalWidthCm  PetalLengthCm  PetalWidthCm  Species\n",
              "0             5.1           3.5            1.4           0.2        0\n",
              "1             5.2           3.6            1.5           0.3        0\n",
              "2             5.3           3.7            1.6           0.4        0\n",
              "3             5.4           3.8            1.7           0.5        0\n",
              "4             5.5           3.9            1.8           0.6        0"
            ],
            "text/html": [
              "\n",
              "  <div id=\"df-82bb73ab-5c1b-4c44-acfe-cf0f5d3e59b3\" class=\"colab-df-container\">\n",
              "    <div>\n",
              "<style scoped>\n",
              "    .dataframe tbody tr th:only-of-type {\n",
              "        vertical-align: middle;\n",
              "    }\n",
              "\n",
              "    .dataframe tbody tr th {\n",
              "        vertical-align: top;\n",
              "    }\n",
              "\n",
              "    .dataframe thead th {\n",
              "        text-align: right;\n",
              "    }\n",
              "</style>\n",
              "<table border=\"1\" class=\"dataframe\">\n",
              "  <thead>\n",
              "    <tr style=\"text-align: right;\">\n",
              "      <th></th>\n",
              "      <th>SepalLengthCm</th>\n",
              "      <th>SepalWidthCm</th>\n",
              "      <th>PetalLengthCm</th>\n",
              "      <th>PetalWidthCm</th>\n",
              "      <th>Species</th>\n",
              "    </tr>\n",
              "  </thead>\n",
              "  <tbody>\n",
              "    <tr>\n",
              "      <th>0</th>\n",
              "      <td>5.1</td>\n",
              "      <td>3.5</td>\n",
              "      <td>1.4</td>\n",
              "      <td>0.2</td>\n",
              "      <td>0</td>\n",
              "    </tr>\n",
              "    <tr>\n",
              "      <th>1</th>\n",
              "      <td>5.2</td>\n",
              "      <td>3.6</td>\n",
              "      <td>1.5</td>\n",
              "      <td>0.3</td>\n",
              "      <td>0</td>\n",
              "    </tr>\n",
              "    <tr>\n",
              "      <th>2</th>\n",
              "      <td>5.3</td>\n",
              "      <td>3.7</td>\n",
              "      <td>1.6</td>\n",
              "      <td>0.4</td>\n",
              "      <td>0</td>\n",
              "    </tr>\n",
              "    <tr>\n",
              "      <th>3</th>\n",
              "      <td>5.4</td>\n",
              "      <td>3.8</td>\n",
              "      <td>1.7</td>\n",
              "      <td>0.5</td>\n",
              "      <td>0</td>\n",
              "    </tr>\n",
              "    <tr>\n",
              "      <th>4</th>\n",
              "      <td>5.5</td>\n",
              "      <td>3.9</td>\n",
              "      <td>1.8</td>\n",
              "      <td>0.6</td>\n",
              "      <td>0</td>\n",
              "    </tr>\n",
              "  </tbody>\n",
              "</table>\n",
              "</div>\n",
              "    <div class=\"colab-df-buttons\">\n",
              "\n",
              "  <div class=\"colab-df-container\">\n",
              "    <button class=\"colab-df-convert\" onclick=\"convertToInteractive('df-82bb73ab-5c1b-4c44-acfe-cf0f5d3e59b3')\"\n",
              "            title=\"Convert this dataframe to an interactive table.\"\n",
              "            style=\"display:none;\">\n",
              "\n",
              "  <svg xmlns=\"http://www.w3.org/2000/svg\" height=\"24px\" viewBox=\"0 -960 960 960\">\n",
              "    <path d=\"M120-120v-720h720v720H120Zm60-500h600v-160H180v160Zm220 220h160v-160H400v160Zm0 220h160v-160H400v160ZM180-400h160v-160H180v160Zm440 0h160v-160H620v160ZM180-180h160v-160H180v160Zm440 0h160v-160H620v160Z\"/>\n",
              "  </svg>\n",
              "    </button>\n",
              "\n",
              "  <style>\n",
              "    .colab-df-container {\n",
              "      display:flex;\n",
              "      gap: 12px;\n",
              "    }\n",
              "\n",
              "    .colab-df-convert {\n",
              "      background-color: #E8F0FE;\n",
              "      border: none;\n",
              "      border-radius: 50%;\n",
              "      cursor: pointer;\n",
              "      display: none;\n",
              "      fill: #1967D2;\n",
              "      height: 32px;\n",
              "      padding: 0 0 0 0;\n",
              "      width: 32px;\n",
              "    }\n",
              "\n",
              "    .colab-df-convert:hover {\n",
              "      background-color: #E2EBFA;\n",
              "      box-shadow: 0px 1px 2px rgba(60, 64, 67, 0.3), 0px 1px 3px 1px rgba(60, 64, 67, 0.15);\n",
              "      fill: #174EA6;\n",
              "    }\n",
              "\n",
              "    .colab-df-buttons div {\n",
              "      margin-bottom: 4px;\n",
              "    }\n",
              "\n",
              "    [theme=dark] .colab-df-convert {\n",
              "      background-color: #3B4455;\n",
              "      fill: #D2E3FC;\n",
              "    }\n",
              "\n",
              "    [theme=dark] .colab-df-convert:hover {\n",
              "      background-color: #434B5C;\n",
              "      box-shadow: 0px 1px 3px 1px rgba(0, 0, 0, 0.15);\n",
              "      filter: drop-shadow(0px 1px 2px rgba(0, 0, 0, 0.3));\n",
              "      fill: #FFFFFF;\n",
              "    }\n",
              "  </style>\n",
              "\n",
              "    <script>\n",
              "      const buttonEl =\n",
              "        document.querySelector('#df-82bb73ab-5c1b-4c44-acfe-cf0f5d3e59b3 button.colab-df-convert');\n",
              "      buttonEl.style.display =\n",
              "        google.colab.kernel.accessAllowed ? 'block' : 'none';\n",
              "\n",
              "      async function convertToInteractive(key) {\n",
              "        const element = document.querySelector('#df-82bb73ab-5c1b-4c44-acfe-cf0f5d3e59b3');\n",
              "        const dataTable =\n",
              "          await google.colab.kernel.invokeFunction('convertToInteractive',\n",
              "                                                    [key], {});\n",
              "        if (!dataTable) return;\n",
              "\n",
              "        const docLinkHtml = 'Like what you see? Visit the ' +\n",
              "          '<a target=\"_blank\" href=https://colab.research.google.com/notebooks/data_table.ipynb>data table notebook</a>'\n",
              "          + ' to learn more about interactive tables.';\n",
              "        element.innerHTML = '';\n",
              "        dataTable['output_type'] = 'display_data';\n",
              "        await google.colab.output.renderOutput(dataTable, element);\n",
              "        const docLink = document.createElement('div');\n",
              "        docLink.innerHTML = docLinkHtml;\n",
              "        element.appendChild(docLink);\n",
              "      }\n",
              "    </script>\n",
              "  </div>\n",
              "\n",
              "\n",
              "<div id=\"df-467e35a8-37ed-468c-b43f-1b1775b1893d\">\n",
              "  <button class=\"colab-df-quickchart\" onclick=\"quickchart('df-467e35a8-37ed-468c-b43f-1b1775b1893d')\"\n",
              "            title=\"Suggest charts\"\n",
              "            style=\"display:none;\">\n",
              "\n",
              "<svg xmlns=\"http://www.w3.org/2000/svg\" height=\"24px\"viewBox=\"0 0 24 24\"\n",
              "     width=\"24px\">\n",
              "    <g>\n",
              "        <path d=\"M19 3H5c-1.1 0-2 .9-2 2v14c0 1.1.9 2 2 2h14c1.1 0 2-.9 2-2V5c0-1.1-.9-2-2-2zM9 17H7v-7h2v7zm4 0h-2V7h2v10zm4 0h-2v-4h2v4z\"/>\n",
              "    </g>\n",
              "</svg>\n",
              "  </button>\n",
              "\n",
              "<style>\n",
              "  .colab-df-quickchart {\n",
              "      --bg-color: #E8F0FE;\n",
              "      --fill-color: #1967D2;\n",
              "      --hover-bg-color: #E2EBFA;\n",
              "      --hover-fill-color: #174EA6;\n",
              "      --disabled-fill-color: #AAA;\n",
              "      --disabled-bg-color: #DDD;\n",
              "  }\n",
              "\n",
              "  [theme=dark] .colab-df-quickchart {\n",
              "      --bg-color: #3B4455;\n",
              "      --fill-color: #D2E3FC;\n",
              "      --hover-bg-color: #434B5C;\n",
              "      --hover-fill-color: #FFFFFF;\n",
              "      --disabled-bg-color: #3B4455;\n",
              "      --disabled-fill-color: #666;\n",
              "  }\n",
              "\n",
              "  .colab-df-quickchart {\n",
              "    background-color: var(--bg-color);\n",
              "    border: none;\n",
              "    border-radius: 50%;\n",
              "    cursor: pointer;\n",
              "    display: none;\n",
              "    fill: var(--fill-color);\n",
              "    height: 32px;\n",
              "    padding: 0;\n",
              "    width: 32px;\n",
              "  }\n",
              "\n",
              "  .colab-df-quickchart:hover {\n",
              "    background-color: var(--hover-bg-color);\n",
              "    box-shadow: 0 1px 2px rgba(60, 64, 67, 0.3), 0 1px 3px 1px rgba(60, 64, 67, 0.15);\n",
              "    fill: var(--button-hover-fill-color);\n",
              "  }\n",
              "\n",
              "  .colab-df-quickchart-complete:disabled,\n",
              "  .colab-df-quickchart-complete:disabled:hover {\n",
              "    background-color: var(--disabled-bg-color);\n",
              "    fill: var(--disabled-fill-color);\n",
              "    box-shadow: none;\n",
              "  }\n",
              "\n",
              "  .colab-df-spinner {\n",
              "    border: 2px solid var(--fill-color);\n",
              "    border-color: transparent;\n",
              "    border-bottom-color: var(--fill-color);\n",
              "    animation:\n",
              "      spin 1s steps(1) infinite;\n",
              "  }\n",
              "\n",
              "  @keyframes spin {\n",
              "    0% {\n",
              "      border-color: transparent;\n",
              "      border-bottom-color: var(--fill-color);\n",
              "      border-left-color: var(--fill-color);\n",
              "    }\n",
              "    20% {\n",
              "      border-color: transparent;\n",
              "      border-left-color: var(--fill-color);\n",
              "      border-top-color: var(--fill-color);\n",
              "    }\n",
              "    30% {\n",
              "      border-color: transparent;\n",
              "      border-left-color: var(--fill-color);\n",
              "      border-top-color: var(--fill-color);\n",
              "      border-right-color: var(--fill-color);\n",
              "    }\n",
              "    40% {\n",
              "      border-color: transparent;\n",
              "      border-right-color: var(--fill-color);\n",
              "      border-top-color: var(--fill-color);\n",
              "    }\n",
              "    60% {\n",
              "      border-color: transparent;\n",
              "      border-right-color: var(--fill-color);\n",
              "    }\n",
              "    80% {\n",
              "      border-color: transparent;\n",
              "      border-right-color: var(--fill-color);\n",
              "      border-bottom-color: var(--fill-color);\n",
              "    }\n",
              "    90% {\n",
              "      border-color: transparent;\n",
              "      border-bottom-color: var(--fill-color);\n",
              "    }\n",
              "  }\n",
              "</style>\n",
              "\n",
              "  <script>\n",
              "    async function quickchart(key) {\n",
              "      const quickchartButtonEl =\n",
              "        document.querySelector('#' + key + ' button');\n",
              "      quickchartButtonEl.disabled = true;  // To prevent multiple clicks.\n",
              "      quickchartButtonEl.classList.add('colab-df-spinner');\n",
              "      try {\n",
              "        const charts = await google.colab.kernel.invokeFunction(\n",
              "            'suggestCharts', [key], {});\n",
              "      } catch (error) {\n",
              "        console.error('Error during call to suggestCharts:', error);\n",
              "      }\n",
              "      quickchartButtonEl.classList.remove('colab-df-spinner');\n",
              "      quickchartButtonEl.classList.add('colab-df-quickchart-complete');\n",
              "    }\n",
              "    (() => {\n",
              "      let quickchartButtonEl =\n",
              "        document.querySelector('#df-467e35a8-37ed-468c-b43f-1b1775b1893d button');\n",
              "      quickchartButtonEl.style.display =\n",
              "        google.colab.kernel.accessAllowed ? 'block' : 'none';\n",
              "    })();\n",
              "  </script>\n",
              "</div>\n",
              "\n",
              "    </div>\n",
              "  </div>\n"
            ],
            "application/vnd.google.colaboratory.intrinsic+json": {
              "type": "dataframe",
              "variable_name": "irisDataset",
              "summary": "{\n  \"name\": \"irisDataset\",\n  \"rows\": 150,\n  \"fields\": [\n    {\n      \"column\": \" SepalLengthCm\",\n      \"properties\": {\n        \"dtype\": \"number\",\n        \"std\": 1.882975934887287,\n        \"min\": 1.1,\n        \"max\": 6.9,\n        \"num_unique_values\": 100,\n        \"samples\": [\n          6.13,\n          1.23,\n          4.39\n        ],\n        \"semantic_type\": \"\",\n        \"description\": \"\"\n      }\n    },\n    {\n      \"column\": \"SepalWidthCm\",\n      \"properties\": {\n        \"dtype\": \"number\",\n        \"std\": 1.656882289633221,\n        \"min\": 1.1,\n        \"max\": 5.9,\n        \"num_unique_values\": 141,\n        \"samples\": [\n          1.6,\n          5.21,\n          2.12\n        ],\n        \"semantic_type\": \"\",\n        \"description\": \"\"\n      }\n    },\n    {\n      \"column\": \"PetalLengthCm\",\n      \"properties\": {\n        \"dtype\": \"number\",\n        \"std\": 0.6890748588316261,\n        \"min\": 0.1,\n        \"max\": 2.9,\n        \"num_unique_values\": 81,\n        \"samples\": [\n          0.8,\n          1.4,\n          1.0\n        ],\n        \"semantic_type\": \"\",\n        \"description\": \"\"\n      }\n    },\n    {\n      \"column\": \"PetalWidthCm\",\n      \"properties\": {\n        \"dtype\": \"number\",\n        \"std\": 0.289600768473896,\n        \"min\": 0.1,\n        \"max\": 0.99,\n        \"num_unique_values\": 136,\n        \"samples\": [\n          0.82,\n          0.51,\n          0.67\n        ],\n        \"semantic_type\": \"\",\n        \"description\": \"\"\n      }\n    },\n    {\n      \"column\": \"Species\",\n      \"properties\": {\n        \"dtype\": \"number\",\n        \"std\": 0,\n        \"min\": 0,\n        \"max\": 2,\n        \"num_unique_values\": 3,\n        \"samples\": [\n          0,\n          1,\n          2\n        ],\n        \"semantic_type\": \"\",\n        \"description\": \"\"\n      }\n    }\n  ]\n}"
            }
          },
          "metadata": {},
          "execution_count": 8
        }
      ]
    },
    {
      "cell_type": "code",
      "source": [
        "# Mengubah dataFrame ke array numpy\n",
        "irisDataset = irisDataset.to_numpy()"
      ],
      "metadata": {
        "id": "EH9aiK34VaTG"
      },
      "execution_count": 12,
      "outputs": []
    },
    {
      "cell_type": "code",
      "source": [
        "print(irisDataset)"
      ],
      "metadata": {
        "colab": {
          "base_uri": "https://localhost:8080/"
        },
        "id": "onCPScHCVeDG",
        "outputId": "9f1e3919-f33e-4ce4-a508-e0d2eb515c46"
      },
      "execution_count": 13,
      "outputs": [
        {
          "output_type": "stream",
          "name": "stdout",
          "text": [
            "[[5.1   3.5   1.4   0.2   0.   ]\n",
            " [5.2   3.6   1.5   0.3   0.   ]\n",
            " [5.3   3.7   1.6   0.4   0.   ]\n",
            " [5.4   3.8   1.7   0.5   0.   ]\n",
            " [5.5   3.9   1.8   0.6   0.   ]\n",
            " [5.6   3.1   1.9   0.7   0.   ]\n",
            " [5.7   3.11  1.1   0.8   0.   ]\n",
            " [5.8   3.12  1.11  0.9   0.   ]\n",
            " [5.9   3.13  1.12  0.1   0.   ]\n",
            " [5.1   3.14  1.13  0.11  0.   ]\n",
            " [5.11  3.15  1.14  0.12  0.   ]\n",
            " [5.12  3.16  1.15  0.13  0.   ]\n",
            " [5.13  3.17  1.1   0.14  0.   ]\n",
            " [4.2   4.1   1.2   0.15  0.   ]\n",
            " [4.3   4.2   1.3   0.16  0.   ]\n",
            " [4.4   4.3   1.4   0.17  0.   ]\n",
            " [4.5   4.4   1.5   0.18  0.   ]\n",
            " [4.6   4.5   1.6   0.19  0.   ]\n",
            " [4.7   4.6   1.7   0.2   0.   ]\n",
            " [4.8   4.7   1.8   0.21  0.   ]\n",
            " [4.9   4.8   1.9   0.22  0.   ]\n",
            " [4.1   4.9   1.1   0.23  0.   ]\n",
            " [4.11  2.3   1.11  0.24  0.   ]\n",
            " [4.12  2.4   1.12  0.25  0.   ]\n",
            " [4.13  2.5   1.13  0.26  0.   ]\n",
            " [4.14  2.6   1.14  0.27  0.   ]\n",
            " [4.15  2.7   1.5   0.28  0.   ]\n",
            " [4.16  2.8   1.6   0.29  0.   ]\n",
            " [4.17  2.9   1.7   0.3   0.   ]\n",
            " [4.18  2.1   1.8   0.31  0.   ]\n",
            " [4.19  2.11  1.9   0.32  0.   ]\n",
            " [4.2   2.12  1.1   0.33  0.   ]\n",
            " [4.21  2.13  1.11  0.34  0.   ]\n",
            " [4.22  2.14  1.12  0.35  0.   ]\n",
            " [4.23  2.15  1.6   0.36  0.   ]\n",
            " [1.3   2.16  1.7   0.37  0.   ]\n",
            " [1.4   2.17  1.8   0.38  0.   ]\n",
            " [1.5   2.18  1.9   0.39  0.   ]\n",
            " [1.6   2.19  1.1   0.4   0.   ]\n",
            " [1.7   2.2   1.11  0.41  0.   ]\n",
            " [1.8   2.21  1.12  0.42  0.   ]\n",
            " [1.9   2.22  1.13  0.43  0.   ]\n",
            " [1.1   2.23  1.1   0.44  0.   ]\n",
            " [1.11  2.24  1.2   0.45  0.   ]\n",
            " [1.12  2.25  1.3   0.46  0.   ]\n",
            " [1.13  2.26  1.4   0.47  0.   ]\n",
            " [1.14  2.27  1.5   0.48  0.   ]\n",
            " [1.15  2.28  1.6   0.49  0.   ]\n",
            " [1.16  2.29  1.7   0.5   0.   ]\n",
            " [1.17  2.3   1.8   0.51  0.   ]\n",
            " [1.18  2.31  1.9   0.52  1.   ]\n",
            " [1.19  2.32  1.1   0.53  1.   ]\n",
            " [1.2   2.33  1.11  0.54  1.   ]\n",
            " [1.21  2.34  1.12  0.55  1.   ]\n",
            " [1.22  2.35  1.13  0.56  1.   ]\n",
            " [1.23  2.36  1.14  0.57  1.   ]\n",
            " [2.1   2.37  1.15  0.58  1.   ]\n",
            " [2.2   2.38  1.16  0.59  1.   ]\n",
            " [2.1   2.39  1.17  0.6   1.   ]\n",
            " [4.3   2.4   1.18  0.61  1.   ]\n",
            " [4.4   2.41  1.19  0.62  1.   ]\n",
            " [4.5   2.42  1.2   0.63  1.   ]\n",
            " [4.6   2.43  1.21  0.64  1.   ]\n",
            " [4.7   2.44  1.22  0.65  1.   ]\n",
            " [4.8   2.45  1.23  0.66  1.   ]\n",
            " [4.9   1.1   1.24  0.67  1.   ]\n",
            " [4.1   1.2   1.    0.68  1.   ]\n",
            " [4.11  1.3   1.1   0.69  1.   ]\n",
            " [4.12  1.4   1.2   0.7   1.   ]\n",
            " [4.13  1.5   1.3   0.71  1.   ]\n",
            " [4.14  1.6   1.4   0.72  1.   ]\n",
            " [4.15  1.7   1.5   0.73  1.   ]\n",
            " [4.16  1.8   1.6   0.74  1.   ]\n",
            " [4.17  1.9   1.7   0.75  1.   ]\n",
            " [4.18  1.1   1.8   0.76  1.   ]\n",
            " [4.19  1.11  1.9   0.77  1.   ]\n",
            " [4.2   1.12  1.1   0.78  1.   ]\n",
            " [4.21  1.13  1.11  0.79  1.   ]\n",
            " [4.22  1.14  1.12  0.8   1.   ]\n",
            " [4.23  1.15  1.13  0.81  1.   ]\n",
            " [4.24  1.16  1.14  0.82  1.   ]\n",
            " [4.25  1.17  1.15  0.83  1.   ]\n",
            " [4.26  1.18  1.16  0.84  1.   ]\n",
            " [4.27  1.19  1.17  0.85  1.   ]\n",
            " [4.28  1.2   1.18  0.86  1.   ]\n",
            " [4.29  1.21  1.19  0.87  1.   ]\n",
            " [4.3   1.22  0.1   0.88  1.   ]\n",
            " [4.31  1.23  0.2   0.89  1.   ]\n",
            " [4.32  1.24  0.3   0.9   1.   ]\n",
            " [4.33  1.25  0.4   0.91  1.   ]\n",
            " [4.34  1.26  0.5   0.92  1.   ]\n",
            " [4.35  1.27  0.6   0.93  1.   ]\n",
            " [4.36  1.28  0.7   0.94  1.   ]\n",
            " [4.37  1.29  0.8   0.95  1.   ]\n",
            " [4.38  5.1   0.9   0.96  1.   ]\n",
            " [4.39  5.2   0.1   0.97  1.   ]\n",
            " [6.    5.3   0.11  0.98  1.   ]\n",
            " [6.1   5.4   0.12  0.99  1.   ]\n",
            " [6.2   5.5   0.13  0.1   1.   ]\n",
            " [6.3   5.6   0.14  0.101 1.   ]\n",
            " [6.4   5.7   0.15  0.102 2.   ]\n",
            " [6.5   5.8   0.16  0.103 2.   ]\n",
            " [6.6   5.9   0.17  0.104 2.   ]\n",
            " [6.7   5.1   0.18  0.105 2.   ]\n",
            " [6.8   5.11  0.19  0.106 2.   ]\n",
            " [6.9   5.12  0.2   0.107 2.   ]\n",
            " [6.1   5.13  0.21  0.108 2.   ]\n",
            " [6.11  5.14  0.22  0.109 2.   ]\n",
            " [6.12  5.15  0.23  0.11  2.   ]\n",
            " [6.13  5.16  0.24  0.111 2.   ]\n",
            " [6.14  5.17  0.25  0.112 2.   ]\n",
            " [6.15  5.18  0.26  0.113 2.   ]\n",
            " [6.16  5.19  0.27  0.114 2.   ]\n",
            " [6.17  5.2   0.28  0.115 2.   ]\n",
            " [6.18  5.21  0.29  0.116 2.   ]\n",
            " [6.19  5.22  0.3   0.117 2.   ]\n",
            " [6.2   5.23  0.31  0.118 2.   ]\n",
            " [6.21  5.24  0.32  0.119 2.   ]\n",
            " [6.22  5.25  0.33  0.12  2.   ]\n",
            " [6.23  5.26  0.34  0.121 2.   ]\n",
            " [6.24  5.27  0.35  0.122 2.   ]\n",
            " [1.1   5.28  0.36  0.123 2.   ]\n",
            " [1.2   5.29  0.37  0.124 2.   ]\n",
            " [1.3   5.3   0.38  0.125 2.   ]\n",
            " [1.4   5.31  0.39  0.126 2.   ]\n",
            " [1.5   5.32  0.4   0.127 2.   ]\n",
            " [1.6   5.33  0.41  0.128 2.   ]\n",
            " [1.7   5.34  0.42  0.129 2.   ]\n",
            " [1.8   5.35  2.1   0.13  2.   ]\n",
            " [1.9   5.36  2.2   0.131 2.   ]\n",
            " [1.1   5.37  2.3   0.132 2.   ]\n",
            " [1.11  5.38  2.4   0.133 2.   ]\n",
            " [1.12  5.39  2.5   0.134 2.   ]\n",
            " [1.13  5.4   2.6   0.135 2.   ]\n",
            " [1.14  5.41  2.7   0.136 2.   ]\n",
            " [1.15  5.42  2.8   0.137 2.   ]\n",
            " [1.16  5.43  2.9   0.138 2.   ]\n",
            " [1.17  5.44  2.1   0.139 2.   ]\n",
            " [1.18  5.45  2.11  0.14  2.   ]\n",
            " [1.19  5.46  2.12  0.141 2.   ]\n",
            " [1.2   5.47  2.13  0.142 2.   ]\n",
            " [1.21  5.48  2.14  0.143 2.   ]\n",
            " [1.22  5.49  2.15  0.144 2.   ]\n",
            " [1.23  5.5   2.16  0.145 2.   ]\n",
            " [1.24  5.51  2.17  0.146 2.   ]\n",
            " [1.25  5.52  2.18  0.147 2.   ]\n",
            " [1.26  5.53  2.19  0.148 2.   ]\n",
            " [1.27  5.54  2.2   0.149 2.   ]\n",
            " [1.28  5.55  2.21  0.15  2.   ]\n",
            " [1.29  5.56  2.22  0.151 2.   ]]\n"
          ]
        }
      ]
    },
    {
      "cell_type": "code",
      "source": [
        "dataTraining = np.concatenate((irisDataset[0:40, :], irisDataset[50:90, :]),\n",
        "                              axis=0)\n",
        "dataTesting = np.concatenate((irisDataset[40:50, :], irisDataset[90:100, :]),\n",
        "                             axis=0)"
      ],
      "metadata": {
        "id": "W2TXukUtV74b"
      },
      "execution_count": 14,
      "outputs": []
    },
    {
      "cell_type": "code",
      "source": [
        "print(dataTraining)\n",
        "len(dataTraining)"
      ],
      "metadata": {
        "colab": {
          "base_uri": "https://localhost:8080/"
        },
        "id": "SJIURzVnV_dW",
        "outputId": "fbf49f54-ba38-4811-ba13-94da2f143984"
      },
      "execution_count": 15,
      "outputs": [
        {
          "output_type": "stream",
          "name": "stdout",
          "text": [
            "[[5.1  3.5  1.4  0.2  0.  ]\n",
            " [5.2  3.6  1.5  0.3  0.  ]\n",
            " [5.3  3.7  1.6  0.4  0.  ]\n",
            " [5.4  3.8  1.7  0.5  0.  ]\n",
            " [5.5  3.9  1.8  0.6  0.  ]\n",
            " [5.6  3.1  1.9  0.7  0.  ]\n",
            " [5.7  3.11 1.1  0.8  0.  ]\n",
            " [5.8  3.12 1.11 0.9  0.  ]\n",
            " [5.9  3.13 1.12 0.1  0.  ]\n",
            " [5.1  3.14 1.13 0.11 0.  ]\n",
            " [5.11 3.15 1.14 0.12 0.  ]\n",
            " [5.12 3.16 1.15 0.13 0.  ]\n",
            " [5.13 3.17 1.1  0.14 0.  ]\n",
            " [4.2  4.1  1.2  0.15 0.  ]\n",
            " [4.3  4.2  1.3  0.16 0.  ]\n",
            " [4.4  4.3  1.4  0.17 0.  ]\n",
            " [4.5  4.4  1.5  0.18 0.  ]\n",
            " [4.6  4.5  1.6  0.19 0.  ]\n",
            " [4.7  4.6  1.7  0.2  0.  ]\n",
            " [4.8  4.7  1.8  0.21 0.  ]\n",
            " [4.9  4.8  1.9  0.22 0.  ]\n",
            " [4.1  4.9  1.1  0.23 0.  ]\n",
            " [4.11 2.3  1.11 0.24 0.  ]\n",
            " [4.12 2.4  1.12 0.25 0.  ]\n",
            " [4.13 2.5  1.13 0.26 0.  ]\n",
            " [4.14 2.6  1.14 0.27 0.  ]\n",
            " [4.15 2.7  1.5  0.28 0.  ]\n",
            " [4.16 2.8  1.6  0.29 0.  ]\n",
            " [4.17 2.9  1.7  0.3  0.  ]\n",
            " [4.18 2.1  1.8  0.31 0.  ]\n",
            " [4.19 2.11 1.9  0.32 0.  ]\n",
            " [4.2  2.12 1.1  0.33 0.  ]\n",
            " [4.21 2.13 1.11 0.34 0.  ]\n",
            " [4.22 2.14 1.12 0.35 0.  ]\n",
            " [4.23 2.15 1.6  0.36 0.  ]\n",
            " [1.3  2.16 1.7  0.37 0.  ]\n",
            " [1.4  2.17 1.8  0.38 0.  ]\n",
            " [1.5  2.18 1.9  0.39 0.  ]\n",
            " [1.6  2.19 1.1  0.4  0.  ]\n",
            " [1.7  2.2  1.11 0.41 0.  ]\n",
            " [1.18 2.31 1.9  0.52 1.  ]\n",
            " [1.19 2.32 1.1  0.53 1.  ]\n",
            " [1.2  2.33 1.11 0.54 1.  ]\n",
            " [1.21 2.34 1.12 0.55 1.  ]\n",
            " [1.22 2.35 1.13 0.56 1.  ]\n",
            " [1.23 2.36 1.14 0.57 1.  ]\n",
            " [2.1  2.37 1.15 0.58 1.  ]\n",
            " [2.2  2.38 1.16 0.59 1.  ]\n",
            " [2.1  2.39 1.17 0.6  1.  ]\n",
            " [4.3  2.4  1.18 0.61 1.  ]\n",
            " [4.4  2.41 1.19 0.62 1.  ]\n",
            " [4.5  2.42 1.2  0.63 1.  ]\n",
            " [4.6  2.43 1.21 0.64 1.  ]\n",
            " [4.7  2.44 1.22 0.65 1.  ]\n",
            " [4.8  2.45 1.23 0.66 1.  ]\n",
            " [4.9  1.1  1.24 0.67 1.  ]\n",
            " [4.1  1.2  1.   0.68 1.  ]\n",
            " [4.11 1.3  1.1  0.69 1.  ]\n",
            " [4.12 1.4  1.2  0.7  1.  ]\n",
            " [4.13 1.5  1.3  0.71 1.  ]\n",
            " [4.14 1.6  1.4  0.72 1.  ]\n",
            " [4.15 1.7  1.5  0.73 1.  ]\n",
            " [4.16 1.8  1.6  0.74 1.  ]\n",
            " [4.17 1.9  1.7  0.75 1.  ]\n",
            " [4.18 1.1  1.8  0.76 1.  ]\n",
            " [4.19 1.11 1.9  0.77 1.  ]\n",
            " [4.2  1.12 1.1  0.78 1.  ]\n",
            " [4.21 1.13 1.11 0.79 1.  ]\n",
            " [4.22 1.14 1.12 0.8  1.  ]\n",
            " [4.23 1.15 1.13 0.81 1.  ]\n",
            " [4.24 1.16 1.14 0.82 1.  ]\n",
            " [4.25 1.17 1.15 0.83 1.  ]\n",
            " [4.26 1.18 1.16 0.84 1.  ]\n",
            " [4.27 1.19 1.17 0.85 1.  ]\n",
            " [4.28 1.2  1.18 0.86 1.  ]\n",
            " [4.29 1.21 1.19 0.87 1.  ]\n",
            " [4.3  1.22 0.1  0.88 1.  ]\n",
            " [4.31 1.23 0.2  0.89 1.  ]\n",
            " [4.32 1.24 0.3  0.9  1.  ]\n",
            " [4.33 1.25 0.4  0.91 1.  ]]\n"
          ]
        },
        {
          "output_type": "execute_result",
          "data": {
            "text/plain": [
              "80"
            ]
          },
          "metadata": {},
          "execution_count": 15
        }
      ]
    },
    {
      "cell_type": "code",
      "source": [
        "print(dataTesting)\n",
        "len(dataTesting)"
      ],
      "metadata": {
        "colab": {
          "base_uri": "https://localhost:8080/"
        },
        "id": "20fjbqkiWVSF",
        "outputId": "80fdc624-288e-4677-a6a2-ef2618d178f2"
      },
      "execution_count": 16,
      "outputs": [
        {
          "output_type": "stream",
          "name": "stdout",
          "text": [
            "[[1.8   2.21  1.12  0.42  0.   ]\n",
            " [1.9   2.22  1.13  0.43  0.   ]\n",
            " [1.1   2.23  1.1   0.44  0.   ]\n",
            " [1.11  2.24  1.2   0.45  0.   ]\n",
            " [1.12  2.25  1.3   0.46  0.   ]\n",
            " [1.13  2.26  1.4   0.47  0.   ]\n",
            " [1.14  2.27  1.5   0.48  0.   ]\n",
            " [1.15  2.28  1.6   0.49  0.   ]\n",
            " [1.16  2.29  1.7   0.5   0.   ]\n",
            " [1.17  2.3   1.8   0.51  0.   ]\n",
            " [4.34  1.26  0.5   0.92  1.   ]\n",
            " [4.35  1.27  0.6   0.93  1.   ]\n",
            " [4.36  1.28  0.7   0.94  1.   ]\n",
            " [4.37  1.29  0.8   0.95  1.   ]\n",
            " [4.38  5.1   0.9   0.96  1.   ]\n",
            " [4.39  5.2   0.1   0.97  1.   ]\n",
            " [6.    5.3   0.11  0.98  1.   ]\n",
            " [6.1   5.4   0.12  0.99  1.   ]\n",
            " [6.2   5.5   0.13  0.1   1.   ]\n",
            " [6.3   5.6   0.14  0.101 1.   ]]\n"
          ]
        },
        {
          "output_type": "execute_result",
          "data": {
            "text/plain": [
              "20"
            ]
          },
          "metadata": {},
          "execution_count": 16
        }
      ]
    },
    {
      "cell_type": "code",
      "source": [
        "# Mememcah dataset ke input dan label\n",
        "inputTraining = dataTraining[:, 0:4]\n",
        "inputTesting = dataTesting[:, 0:4]\n",
        "labelTraining = dataTraining[:, 4]\n",
        "labelTesting = dataTesting[:, 4]\n",
        "print(labelTraining)\n",
        "len(labelTraining)"
      ],
      "metadata": {
        "colab": {
          "base_uri": "https://localhost:8080/"
        },
        "id": "AgMyMEQOWZ-3",
        "outputId": "ed183400-d240-4bab-9fed-9f7e508a192b"
      },
      "execution_count": 17,
      "outputs": [
        {
          "output_type": "stream",
          "name": "stdout",
          "text": [
            "[0. 0. 0. 0. 0. 0. 0. 0. 0. 0. 0. 0. 0. 0. 0. 0. 0. 0. 0. 0. 0. 0. 0. 0.\n",
            " 0. 0. 0. 0. 0. 0. 0. 0. 0. 0. 0. 0. 0. 0. 0. 0. 1. 1. 1. 1. 1. 1. 1. 1.\n",
            " 1. 1. 1. 1. 1. 1. 1. 1. 1. 1. 1. 1. 1. 1. 1. 1. 1. 1. 1. 1. 1. 1. 1. 1.\n",
            " 1. 1. 1. 1. 1. 1. 1. 1.]\n"
          ]
        },
        {
          "output_type": "execute_result",
          "data": {
            "text/plain": [
              "80"
            ]
          },
          "metadata": {},
          "execution_count": 17
        }
      ]
    },
    {
      "cell_type": "code",
      "source": [
        "# Mendefinisikan Decision Tree Classifier\n",
        "model = tree.DecisionTreeClassifier()"
      ],
      "metadata": {
        "id": "_3oIZiUPWgtU"
      },
      "execution_count": 18,
      "outputs": []
    },
    {
      "cell_type": "code",
      "source": [
        "from sklearn.tree import DecisionTreeRegressor"
      ],
      "metadata": {
        "id": "RFzBSah2Wj0C"
      },
      "execution_count": 19,
      "outputs": []
    },
    {
      "cell_type": "code",
      "source": [
        "model = DecisionTreeRegressor()"
      ],
      "metadata": {
        "id": "RYxDeDIkWlRw"
      },
      "execution_count": 20,
      "outputs": []
    },
    {
      "cell_type": "code",
      "source": [
        "model = model.fit(inputTraining, labelTraining)"
      ],
      "metadata": {
        "id": "Iupj2AuXWn0i"
      },
      "execution_count": 21,
      "outputs": []
    },
    {
      "cell_type": "code",
      "source": [
        "# Memprediksi inpu data testing\n",
        "hasilPrediksi = model.predict(inputTesting)\n",
        "print(\" Label Sebenarnya :\", labelTesting)\n",
        "print(\" Hasil Prediksi :\", hasilPrediksi)"
      ],
      "metadata": {
        "colab": {
          "base_uri": "https://localhost:8080/"
        },
        "id": "09Ch8YLtWssS",
        "outputId": "31244639-f791-49c1-c3e4-4f9dba0f4242"
      },
      "execution_count": 22,
      "outputs": [
        {
          "output_type": "stream",
          "name": "stdout",
          "text": [
            " Label Sebenarnya : [0. 0. 0. 0. 0. 0. 0. 0. 0. 0. 1. 1. 1. 1. 1. 1. 1. 1. 1. 1.]\n",
            " Hasil Prediksi : [0. 0. 0. 0. 0. 0. 0. 0. 0. 0. 1. 1. 1. 1. 1. 1. 0. 0. 0. 0.]\n"
          ]
        }
      ]
    },
    {
      "cell_type": "code",
      "source": [
        "# Menghitung akurasi\n",
        "prediksiBenar = (hasilPrediksi == labelTesting).sum()\n",
        "prediksiSalah = (hasilPrediksi != labelTesting).sum()\n",
        "print(\" Prediksi Benar :\", prediksiBenar, \"data\")\n",
        "print(\" Prediksi Salah :\", prediksiSalah, \"data\")\n",
        "print(\" Akurasi :\", prediksiBenar/(prediksiBenar+prediksiSalah) * 100, \"%\")"
      ],
      "metadata": {
        "colab": {
          "base_uri": "https://localhost:8080/"
        },
        "id": "dO0tDJrfWzVB",
        "outputId": "f0fc379e-e81e-439a-c1e3-a564f28e348b"
      },
      "execution_count": 23,
      "outputs": [
        {
          "output_type": "stream",
          "name": "stdout",
          "text": [
            " Prediksi Benar : 16 data\n",
            " Prediksi Salah : 4 data\n",
            " Akurasi : 80.0 %\n"
          ]
        }
      ]
    }
  ],
  "metadata": {
    "colab": {
      "provenance": [],
      "include_colab_link": true
    },
    "kernelspec": {
      "display_name": "Python 3",
      "name": "python3"
    }
  },
  "nbformat": 4,
  "nbformat_minor": 0
}